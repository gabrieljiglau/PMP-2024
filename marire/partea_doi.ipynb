{
  "nbformat": 4,
  "nbformat_minor": 0,
  "metadata": {
    "colab": {
      "provenance": []
    },
    "kernelspec": {
      "name": "python3",
      "display_name": "Python 3"
    },
    "language_info": {
      "name": "python"
    },
    "widgets": {
      "application/vnd.jupyter.widget-state+json": {
        "39977cba1c6e4368ba3e2969f0c62d9d": {
          "model_module": "@jupyter-widgets/output",
          "model_name": "OutputModel",
          "model_module_version": "1.0.0",
          "state": {
            "_dom_classes": [],
            "_model_module": "@jupyter-widgets/output",
            "_model_module_version": "1.0.0",
            "_model_name": "OutputModel",
            "_view_count": null,
            "_view_module": "@jupyter-widgets/output",
            "_view_module_version": "1.0.0",
            "_view_name": "OutputView",
            "layout": "IPY_MODEL_7a40d31389234ecb818c21a1daea5334",
            "msg_id": "",
            "outputs": [
              {
                "output_type": "display_data",
                "data": {
                  "text/plain": "                                                                                                                   \n \u001b[1m \u001b[0m\u001b[1mProgress                 \u001b[0m\u001b[1m \u001b[0m \u001b[1m \u001b[0m\u001b[1mDraws\u001b[0m\u001b[1m \u001b[0m \u001b[1m \u001b[0m\u001b[1mDivergences\u001b[0m\u001b[1m \u001b[0m \u001b[1m \u001b[0m\u001b[1mStep size\u001b[0m\u001b[1m \u001b[0m \u001b[1m \u001b[0m\u001b[1mGrad evals\u001b[0m\u001b[1m \u001b[0m \u001b[1m \u001b[0m\u001b[1mSampling Speed\u001b[0m\u001b[1m \u001b[0m \u001b[1m \u001b[0m\u001b[1mElapsed\u001b[0m\u001b[1m \u001b[0m \u001b[1m \u001b[0m\u001b[1mRemaining\u001b[0m\u001b[1m \u001b[0m \n ───────────────────────────────────────────────────────────────────────────────────────────────────────────────── \n  \u001b[38;2;31;119;180m━━━━━━━━━━━━━━━━━━━━━━━━━\u001b[0m   2000    0             0.03        127          75.97 draws/s    0:00:26   0:00:00    \n  \u001b[38;2;31;119;180m━━━━━━━━━━━━━━━━━━━━━━━━━\u001b[0m   2000    0             0.05        63           40.18 draws/s    0:00:49   0:00:00    \n                                                                                                                   \n",
                  "text/html": "<pre style=\"white-space:pre;overflow-x:auto;line-height:normal;font-family:Menlo,'DejaVu Sans Mono',consolas,'Courier New',monospace\">                                                                                                                   \n <span style=\"font-weight: bold\"> Progress                  </span> <span style=\"font-weight: bold\"> Draws </span> <span style=\"font-weight: bold\"> Divergences </span> <span style=\"font-weight: bold\"> Step size </span> <span style=\"font-weight: bold\"> Grad evals </span> <span style=\"font-weight: bold\"> Sampling Speed </span> <span style=\"font-weight: bold\"> Elapsed </span> <span style=\"font-weight: bold\"> Remaining </span> \n ───────────────────────────────────────────────────────────────────────────────────────────────────────────────── \n  <span style=\"color: #1f77b4; text-decoration-color: #1f77b4\">━━━━━━━━━━━━━━━━━━━━━━━━━</span>   2000    0             0.03        127          75.97 draws/s    0:00:26   0:00:00    \n  <span style=\"color: #1f77b4; text-decoration-color: #1f77b4\">━━━━━━━━━━━━━━━━━━━━━━━━━</span>   2000    0             0.05        63           40.18 draws/s    0:00:49   0:00:00    \n                                                                                                                   \n</pre>\n"
                },
                "metadata": {}
              }
            ]
          }
        },
        "7a40d31389234ecb818c21a1daea5334": {
          "model_module": "@jupyter-widgets/base",
          "model_name": "LayoutModel",
          "model_module_version": "1.2.0",
          "state": {
            "_model_module": "@jupyter-widgets/base",
            "_model_module_version": "1.2.0",
            "_model_name": "LayoutModel",
            "_view_count": null,
            "_view_module": "@jupyter-widgets/base",
            "_view_module_version": "1.2.0",
            "_view_name": "LayoutView",
            "align_content": null,
            "align_items": null,
            "align_self": null,
            "border": null,
            "bottom": null,
            "display": null,
            "flex": null,
            "flex_flow": null,
            "grid_area": null,
            "grid_auto_columns": null,
            "grid_auto_flow": null,
            "grid_auto_rows": null,
            "grid_column": null,
            "grid_gap": null,
            "grid_row": null,
            "grid_template_areas": null,
            "grid_template_columns": null,
            "grid_template_rows": null,
            "height": null,
            "justify_content": null,
            "justify_items": null,
            "left": null,
            "margin": null,
            "max_height": null,
            "max_width": null,
            "min_height": null,
            "min_width": null,
            "object_fit": null,
            "object_position": null,
            "order": null,
            "overflow": null,
            "overflow_x": null,
            "overflow_y": null,
            "padding": null,
            "right": null,
            "top": null,
            "visibility": null,
            "width": null
          }
        },
        "f542c9d886b343618a5776a4ee8ded3a": {
          "model_module": "@jupyter-widgets/output",
          "model_name": "OutputModel",
          "model_module_version": "1.0.0",
          "state": {
            "_dom_classes": [],
            "_model_module": "@jupyter-widgets/output",
            "_model_module_version": "1.0.0",
            "_model_name": "OutputModel",
            "_view_count": null,
            "_view_module": "@jupyter-widgets/output",
            "_view_module_version": "1.0.0",
            "_view_name": "OutputView",
            "layout": "IPY_MODEL_442b88dcdd394847846c718c50b825d9",
            "msg_id": "",
            "outputs": [
              {
                "output_type": "display_data",
                "data": {
                  "text/plain": "                                                                                                                   \n \u001b[1m \u001b[0m\u001b[1mProgress                 \u001b[0m\u001b[1m \u001b[0m \u001b[1m \u001b[0m\u001b[1mDraws\u001b[0m\u001b[1m \u001b[0m \u001b[1m \u001b[0m\u001b[1mDivergences\u001b[0m\u001b[1m \u001b[0m \u001b[1m \u001b[0m\u001b[1mStep size\u001b[0m\u001b[1m \u001b[0m \u001b[1m \u001b[0m\u001b[1mGrad evals\u001b[0m\u001b[1m \u001b[0m \u001b[1m \u001b[0m\u001b[1mSampling Speed\u001b[0m\u001b[1m \u001b[0m \u001b[1m \u001b[0m\u001b[1mElapsed\u001b[0m\u001b[1m \u001b[0m \u001b[1m \u001b[0m\u001b[1mRemaining\u001b[0m\u001b[1m \u001b[0m \n ───────────────────────────────────────────────────────────────────────────────────────────────────────────────── \n  \u001b[38;2;31;119;180m━━━━━━━━━━━━━━━━━━━━━━━━━\u001b[0m   1100    0             0.20        7            20.75 draws/s    0:00:52   0:00:00    \n  \u001b[38;2;214;39;40m━━━━━━━━━━━━━━━━━━━━━━━━━\u001b[0m   1100    5             0.13        7            10.50 draws/s    0:01:44   0:00:00    \n                                                                                                                   \n",
                  "text/html": "<pre style=\"white-space:pre;overflow-x:auto;line-height:normal;font-family:Menlo,'DejaVu Sans Mono',consolas,'Courier New',monospace\">                                                                                                                   \n <span style=\"font-weight: bold\"> Progress                  </span> <span style=\"font-weight: bold\"> Draws </span> <span style=\"font-weight: bold\"> Divergences </span> <span style=\"font-weight: bold\"> Step size </span> <span style=\"font-weight: bold\"> Grad evals </span> <span style=\"font-weight: bold\"> Sampling Speed </span> <span style=\"font-weight: bold\"> Elapsed </span> <span style=\"font-weight: bold\"> Remaining </span> \n ───────────────────────────────────────────────────────────────────────────────────────────────────────────────── \n  <span style=\"color: #1f77b4; text-decoration-color: #1f77b4\">━━━━━━━━━━━━━━━━━━━━━━━━━</span>   1100    0             0.20        7            20.75 draws/s    0:00:52   0:00:00    \n  <span style=\"color: #d62728; text-decoration-color: #d62728\">━━━━━━━━━━━━━━━━━━━━━━━━━</span>   1100    5             0.13        7            10.50 draws/s    0:01:44   0:00:00    \n                                                                                                                   \n</pre>\n"
                },
                "metadata": {}
              }
            ]
          }
        },
        "442b88dcdd394847846c718c50b825d9": {
          "model_module": "@jupyter-widgets/base",
          "model_name": "LayoutModel",
          "model_module_version": "1.2.0",
          "state": {
            "_model_module": "@jupyter-widgets/base",
            "_model_module_version": "1.2.0",
            "_model_name": "LayoutModel",
            "_view_count": null,
            "_view_module": "@jupyter-widgets/base",
            "_view_module_version": "1.2.0",
            "_view_name": "LayoutView",
            "align_content": null,
            "align_items": null,
            "align_self": null,
            "border": null,
            "bottom": null,
            "display": null,
            "flex": null,
            "flex_flow": null,
            "grid_area": null,
            "grid_auto_columns": null,
            "grid_auto_flow": null,
            "grid_auto_rows": null,
            "grid_column": null,
            "grid_gap": null,
            "grid_row": null,
            "grid_template_areas": null,
            "grid_template_columns": null,
            "grid_template_rows": null,
            "height": null,
            "justify_content": null,
            "justify_items": null,
            "left": null,
            "margin": null,
            "max_height": null,
            "max_width": null,
            "min_height": null,
            "min_width": null,
            "object_fit": null,
            "object_position": null,
            "order": null,
            "overflow": null,
            "overflow_x": null,
            "overflow_y": null,
            "padding": null,
            "right": null,
            "top": null,
            "visibility": null,
            "width": null
          }
        },
        "a00f8bf0f053442ca9beb7629c9e49dc": {
          "model_module": "@jupyter-widgets/output",
          "model_name": "OutputModel",
          "model_module_version": "1.0.0",
          "state": {
            "_dom_classes": [],
            "_model_module": "@jupyter-widgets/output",
            "_model_module_version": "1.0.0",
            "_model_name": "OutputModel",
            "_view_count": null,
            "_view_module": "@jupyter-widgets/output",
            "_view_module_version": "1.0.0",
            "_view_name": "OutputView",
            "layout": "IPY_MODEL_4dd34d5a017440ca9f3758c6ed88e806",
            "msg_id": "",
            "outputs": [
              {
                "output_type": "display_data",
                "data": {
                  "text/plain": "                                                                                                                   \n \u001b[1m \u001b[0m\u001b[1mProgress                 \u001b[0m\u001b[1m \u001b[0m \u001b[1m \u001b[0m\u001b[1mDraws\u001b[0m\u001b[1m \u001b[0m \u001b[1m \u001b[0m\u001b[1mDivergences\u001b[0m\u001b[1m \u001b[0m \u001b[1m \u001b[0m\u001b[1mStep size\u001b[0m\u001b[1m \u001b[0m \u001b[1m \u001b[0m\u001b[1mGrad evals\u001b[0m\u001b[1m \u001b[0m \u001b[1m \u001b[0m\u001b[1mSampling Speed\u001b[0m\u001b[1m \u001b[0m \u001b[1m \u001b[0m\u001b[1mElapsed\u001b[0m\u001b[1m \u001b[0m \u001b[1m \u001b[0m\u001b[1mRemaining\u001b[0m\u001b[1m \u001b[0m \n ───────────────────────────────────────────────────────────────────────────────────────────────────────────────── \n  \u001b[38;2;31;119;180m━━━━━━━━━━━━━━━━━━━━━━━━━\u001b[0m   1100    0             0.11        15           19.62 draws/s    0:00:56   0:00:00    \n  \u001b[38;2;214;39;40m━━━━━━━━━━━━━━━━━━━━━━━━━\u001b[0m   1100    1             0.11        15           9.83 draws/s     0:01:51   0:00:00    \n                                                                                                                   \n",
                  "text/html": "<pre style=\"white-space:pre;overflow-x:auto;line-height:normal;font-family:Menlo,'DejaVu Sans Mono',consolas,'Courier New',monospace\">                                                                                                                   \n <span style=\"font-weight: bold\"> Progress                  </span> <span style=\"font-weight: bold\"> Draws </span> <span style=\"font-weight: bold\"> Divergences </span> <span style=\"font-weight: bold\"> Step size </span> <span style=\"font-weight: bold\"> Grad evals </span> <span style=\"font-weight: bold\"> Sampling Speed </span> <span style=\"font-weight: bold\"> Elapsed </span> <span style=\"font-weight: bold\"> Remaining </span> \n ───────────────────────────────────────────────────────────────────────────────────────────────────────────────── \n  <span style=\"color: #1f77b4; text-decoration-color: #1f77b4\">━━━━━━━━━━━━━━━━━━━━━━━━━</span>   1100    0             0.11        15           19.62 draws/s    0:00:56   0:00:00    \n  <span style=\"color: #d62728; text-decoration-color: #d62728\">━━━━━━━━━━━━━━━━━━━━━━━━━</span>   1100    1             0.11        15           9.83 draws/s     0:01:51   0:00:00    \n                                                                                                                   \n</pre>\n"
                },
                "metadata": {}
              }
            ]
          }
        },
        "4dd34d5a017440ca9f3758c6ed88e806": {
          "model_module": "@jupyter-widgets/base",
          "model_name": "LayoutModel",
          "model_module_version": "1.2.0",
          "state": {
            "_model_module": "@jupyter-widgets/base",
            "_model_module_version": "1.2.0",
            "_model_name": "LayoutModel",
            "_view_count": null,
            "_view_module": "@jupyter-widgets/base",
            "_view_module_version": "1.2.0",
            "_view_name": "LayoutView",
            "align_content": null,
            "align_items": null,
            "align_self": null,
            "border": null,
            "bottom": null,
            "display": null,
            "flex": null,
            "flex_flow": null,
            "grid_area": null,
            "grid_auto_columns": null,
            "grid_auto_flow": null,
            "grid_auto_rows": null,
            "grid_column": null,
            "grid_gap": null,
            "grid_row": null,
            "grid_template_areas": null,
            "grid_template_columns": null,
            "grid_template_rows": null,
            "height": null,
            "justify_content": null,
            "justify_items": null,
            "left": null,
            "margin": null,
            "max_height": null,
            "max_width": null,
            "min_height": null,
            "min_width": null,
            "object_fit": null,
            "object_position": null,
            "order": null,
            "overflow": null,
            "overflow_x": null,
            "overflow_y": null,
            "padding": null,
            "right": null,
            "top": null,
            "visibility": null,
            "width": null
          }
        },
        "9c5fe581348e4fe5a4e061a5dcc1c65e": {
          "model_module": "@jupyter-widgets/output",
          "model_name": "OutputModel",
          "model_module_version": "1.0.0",
          "state": {
            "_dom_classes": [],
            "_model_module": "@jupyter-widgets/output",
            "_model_module_version": "1.0.0",
            "_model_name": "OutputModel",
            "_view_count": null,
            "_view_module": "@jupyter-widgets/output",
            "_view_module_version": "1.0.0",
            "_view_name": "OutputView",
            "layout": "IPY_MODEL_ae9e45319f4a408f90901c9484ec4cc7",
            "msg_id": "",
            "outputs": [
              {
                "output_type": "display_data",
                "data": {
                  "text/plain": "                                                                                                                   \n \u001b[1m \u001b[0m\u001b[1mProgress                 \u001b[0m\u001b[1m \u001b[0m \u001b[1m \u001b[0m\u001b[1mDraws\u001b[0m\u001b[1m \u001b[0m \u001b[1m \u001b[0m\u001b[1mDivergences\u001b[0m\u001b[1m \u001b[0m \u001b[1m \u001b[0m\u001b[1mStep size\u001b[0m\u001b[1m \u001b[0m \u001b[1m \u001b[0m\u001b[1mGrad evals\u001b[0m\u001b[1m \u001b[0m \u001b[1m \u001b[0m\u001b[1mSampling Speed\u001b[0m\u001b[1m \u001b[0m \u001b[1m \u001b[0m\u001b[1mElapsed\u001b[0m\u001b[1m \u001b[0m \u001b[1m \u001b[0m\u001b[1mRemaining\u001b[0m\u001b[1m \u001b[0m \n ───────────────────────────────────────────────────────────────────────────────────────────────────────────────── \n  \u001b[38;2;31;119;180m━━━━━━━━━━━━━━━━━━━━━━━━━\u001b[0m   1100    0             0.12        15           19.41 draws/s    0:00:56   0:00:00    \n  \u001b[38;2;31;119;180m━━━━━━━━━━━━━━━━━━━━━━━━━\u001b[0m   1100    0             0.10        15           9.65 draws/s     0:01:53   0:00:00    \n                                                                                                                   \n",
                  "text/html": "<pre style=\"white-space:pre;overflow-x:auto;line-height:normal;font-family:Menlo,'DejaVu Sans Mono',consolas,'Courier New',monospace\">                                                                                                                   \n <span style=\"font-weight: bold\"> Progress                  </span> <span style=\"font-weight: bold\"> Draws </span> <span style=\"font-weight: bold\"> Divergences </span> <span style=\"font-weight: bold\"> Step size </span> <span style=\"font-weight: bold\"> Grad evals </span> <span style=\"font-weight: bold\"> Sampling Speed </span> <span style=\"font-weight: bold\"> Elapsed </span> <span style=\"font-weight: bold\"> Remaining </span> \n ───────────────────────────────────────────────────────────────────────────────────────────────────────────────── \n  <span style=\"color: #1f77b4; text-decoration-color: #1f77b4\">━━━━━━━━━━━━━━━━━━━━━━━━━</span>   1100    0             0.12        15           19.41 draws/s    0:00:56   0:00:00    \n  <span style=\"color: #1f77b4; text-decoration-color: #1f77b4\">━━━━━━━━━━━━━━━━━━━━━━━━━</span>   1100    0             0.10        15           9.65 draws/s     0:01:53   0:00:00    \n                                                                                                                   \n</pre>\n"
                },
                "metadata": {}
              }
            ]
          }
        },
        "ae9e45319f4a408f90901c9484ec4cc7": {
          "model_module": "@jupyter-widgets/base",
          "model_name": "LayoutModel",
          "model_module_version": "1.2.0",
          "state": {
            "_model_module": "@jupyter-widgets/base",
            "_model_module_version": "1.2.0",
            "_model_name": "LayoutModel",
            "_view_count": null,
            "_view_module": "@jupyter-widgets/base",
            "_view_module_version": "1.2.0",
            "_view_name": "LayoutView",
            "align_content": null,
            "align_items": null,
            "align_self": null,
            "border": null,
            "bottom": null,
            "display": null,
            "flex": null,
            "flex_flow": null,
            "grid_area": null,
            "grid_auto_columns": null,
            "grid_auto_flow": null,
            "grid_auto_rows": null,
            "grid_column": null,
            "grid_gap": null,
            "grid_row": null,
            "grid_template_areas": null,
            "grid_template_columns": null,
            "grid_template_rows": null,
            "height": null,
            "justify_content": null,
            "justify_items": null,
            "left": null,
            "margin": null,
            "max_height": null,
            "max_width": null,
            "min_height": null,
            "min_width": null,
            "object_fit": null,
            "object_position": null,
            "order": null,
            "overflow": null,
            "overflow_x": null,
            "overflow_y": null,
            "padding": null,
            "right": null,
            "top": null,
            "visibility": null,
            "width": null
          }
        }
      }
    }
  },
  "cells": [
    {
      "cell_type": "code",
      "execution_count": 1,
      "metadata": {
        "id": "uqdwWgUFT3oX"
      },
      "outputs": [],
      "source": [
        "import pymc as pm\n",
        "import numpy as np\n",
        "import arviz as az\n",
        "import pandas as pd\n",
        "import matplotlib.pyplot as plt"
      ]
    },
    {
      "cell_type": "code",
      "source": [
        "df = pd.read_csv('date_regresie.csv')\n",
        "\n",
        "columns = [column for column in df.columns]\n",
        "df = df[columns]\n",
        "\n",
        "for col in df.columns:\n",
        "    df[col] = pd.to_numeric(df[col], errors='coerce')\n",
        "df = df.dropna()\n",
        "\n",
        "df.to_csv('date_regresie', header=False, index=False)\n",
        "data = df"
      ],
      "metadata": {
        "id": "V0BMQe_jUdbU"
      },
      "execution_count": 3,
      "outputs": []
    },
    {
      "cell_type": "code",
      "source": [
        "y = data['Satisfactie']\n",
        "x1 = data['Salariu']\n",
        "x2 = data['Ore_lucrate']\n",
        "\n",
        "with pm.Model() as regression_model:\n",
        "    alpha = pm.Normal('alpha', mu=0, sigma=10)\n",
        "    beta1 = pm.Normal('beta1', mu=0, sigma=10)\n",
        "    beta2 = pm.Normal('beta2', mu=0, sigma=20)\n",
        "    beta3 = pm.Normal('beta3', mu=0, sigma=10)\n",
        "\n",
        "    epsilon = pm.HalfNormal('epsilon', sigma=10)\n",
        "    miu = pm.Deterministic('miu', alpha + beta1 * x1 + beta2 * x2 + beta3 * x1 * x2)\n",
        "\n",
        "    y_pred = pm.StudentT('y_pred', mu=miu, sigma=epsilon, nu=3, observed=y)\n",
        "    trace = pm.sample(1000, tune=1000, return_inferencedata=True)\n",
        "\n",
        "print(az.summary(trace, var_names=['alpha', 'beta1', 'beta2', 'beta3', 'epsilon']))"
      ],
      "metadata": {
        "colab": {
          "base_uri": "https://localhost:8080/",
          "height": 339,
          "referenced_widgets": [
            "39977cba1c6e4368ba3e2969f0c62d9d",
            "7a40d31389234ecb818c21a1daea5334"
          ]
        },
        "id": "13l490KoUsKP",
        "outputId": "1ac07927-89e3-4ed6-8b7c-f9461c863da8"
      },
      "execution_count": 6,
      "outputs": [
        {
          "output_type": "display_data",
          "data": {
            "text/plain": [
              "Output()"
            ],
            "application/vnd.jupyter.widget-view+json": {
              "version_major": 2,
              "version_minor": 0,
              "model_id": "39977cba1c6e4368ba3e2969f0c62d9d"
            }
          },
          "metadata": {}
        },
        {
          "output_type": "display_data",
          "data": {
            "text/plain": [],
            "text/html": [
              "<pre style=\"white-space:pre;overflow-x:auto;line-height:normal;font-family:Menlo,'DejaVu Sans Mono',consolas,'Courier New',monospace\"></pre>\n"
            ]
          },
          "metadata": {}
        },
        {
          "output_type": "stream",
          "name": "stdout",
          "text": [
            "          mean     sd  hdi_3%  hdi_97%  mcse_mean  mcse_sd  ess_bulk  \\\n",
            "alpha   -2.733  2.617  -7.600    2.172      0.128    0.093     419.0   \n",
            "beta1    1.268  0.368   0.578    1.972      0.018    0.013     429.0   \n",
            "beta2    0.126  0.059   0.010    0.232      0.003    0.002     425.0   \n",
            "beta3   -0.010  0.008  -0.025    0.006      0.000    0.000     432.0   \n",
            "epsilon  1.100  0.112   0.900    1.323      0.005    0.003     596.0   \n",
            "\n",
            "         ess_tail  r_hat  \n",
            "alpha       406.0   1.01  \n",
            "beta1       378.0   1.01  \n",
            "beta2       399.0   1.01  \n",
            "beta3       336.0   1.00  \n",
            "epsilon     375.0   1.00  \n"
          ]
        }
      ]
    },
    {
      "cell_type": "code",
      "source": [
        "print(az.summary(trace, var_names=['alpha', 'beta1', 'beta2', 'beta3','epsilon']))"
      ],
      "metadata": {
        "colab": {
          "base_uri": "https://localhost:8080/"
        },
        "id": "LJu_cW6OW2t_",
        "outputId": "cb1c300d-9478-4939-8b03-9d86eeb7c35a"
      },
      "execution_count": 8,
      "outputs": [
        {
          "output_type": "stream",
          "name": "stdout",
          "text": [
            "          mean     sd  hdi_3%  hdi_97%  mcse_mean  mcse_sd  ess_bulk  \\\n",
            "alpha   -2.733  2.617  -7.600    2.172      0.128    0.093     419.0   \n",
            "beta1    1.268  0.368   0.578    1.972      0.018    0.013     429.0   \n",
            "beta2    0.126  0.059   0.010    0.232      0.003    0.002     425.0   \n",
            "beta3   -0.010  0.008  -0.025    0.006      0.000    0.000     432.0   \n",
            "epsilon  1.100  0.112   0.900    1.323      0.005    0.003     596.0   \n",
            "\n",
            "         ess_tail  r_hat  \n",
            "alpha       406.0   1.01  \n",
            "beta1       378.0   1.01  \n",
            "beta2       399.0   1.01  \n",
            "beta3       336.0   1.00  \n",
            "epsilon     375.0   1.00  \n"
          ]
        }
      ]
    },
    {
      "cell_type": "markdown",
      "source": [
        "i) media lui beta3 este foarte aproape de 0, ceea ce însemnă că nu există o relație prea puternică între salariu și orele lucrate\n",
        "\n",
        "ii) beta1 este parametrul cu ponderea cea mai mare, ceea ce înseamnă că atributul determinat de el (,anume salariul) influențează satisfacția cel mai mult\n",
        "\n",
        "iii) beta2 (corespunzător orelor lucrate), influențează datele, dar mai puțin decât salariul"
      ],
      "metadata": {
        "id": "uQpmbDPmXHPv"
      }
    },
    {
      "cell_type": "code",
      "source": [
        "az.plot_posterior(trace, var_names=['beta1', 'beta2', 'beta3', 'epsilon'], hdi_prob=0.94)"
      ],
      "metadata": {
        "colab": {
          "base_uri": "https://localhost:8080/",
          "height": 374
        },
        "id": "eEviflJtWrFn",
        "outputId": "538a27e1-813c-45cf-cff5-00d25a3cb964"
      },
      "execution_count": 9,
      "outputs": [
        {
          "output_type": "execute_result",
          "data": {
            "text/plain": [
              "array([<Axes: title={'center': 'beta1'}>,\n",
              "       <Axes: title={'center': 'beta2'}>,\n",
              "       <Axes: title={'center': 'beta3'}>,\n",
              "       <Axes: title={'center': 'epsilon'}>], dtype=object)"
            ]
          },
          "metadata": {},
          "execution_count": 9
        },
        {
          "output_type": "display_data",
          "data": {
            "text/plain": [
              "<Figure size 2944x552 with 4 Axes>"
            ],
            "image/png": "[encoded data removed]"
          },
          "metadata": {}
        }
      ]
    },
    {
      "cell_type": "code",
      "source": [
        "df = pd.read_csv('greutati.csv')\n",
        "\n",
        "columns = [column for column in df.columns]\n",
        "df = df[columns]\n",
        "\n",
        "for col in df.columns:\n",
        "    df[col] = pd.to_numeric(df[col], errors='coerce')\n",
        "df = df.dropna()\n",
        "\n",
        "df.to_csv('date_regresie', header=False, index=False)\n",
        "data = df"
      ],
      "metadata": {
        "id": "uHOLCNL_X8Df"
      },
      "execution_count": 14,
      "outputs": []
    },
    {
      "cell_type": "code",
      "source": [
        "def run_mixture_model(K, weights):\n",
        "    with pm.Model() as model:\n",
        "\n",
        "        pi = pm.Dirichlet(\"pi\", a=np.ones(K))\n",
        "\n",
        "        mu = pm.Normal(\"mu\", mu=np.mean(weights), sigma=np.std(weights), shape=K)\n",
        "\n",
        "        sigma = pm.HalfNormal(\"sigma\", sigma=np.std(weights), shape=K)\n",
        "\n",
        "        category = pm.Categorical(\"category\", p=pi, shape=len(weights))\n",
        "\n",
        "        # the likelihood\n",
        "        y = pm.Normal(\"y\", mu=mu[category], sigma=sigma[category], observed=weights)\n",
        "\n",
        "        trace = pm.sample(100, return_inferencedata=True)\n",
        "\n",
        "    return model, trace"
      ],
      "metadata": {
        "id": "nGeN_3NKYZOS"
      },
      "execution_count": 21,
      "outputs": []
    },
    {
      "cell_type": "code",
      "source": [
        "traces = []\n",
        "models = []\n",
        "weights = data['Greutate_pește']\n",
        "for K in [3, 4, 5]:\n",
        "    print(f\"Running model for K={K}\")\n",
        "    model, trace = run_mixture_model(K, weights)\n",
        "    traces.append(trace)\n",
        "    models.append(model)"
      ],
      "metadata": {
        "colab": {
          "base_uri": "https://localhost:8080/",
          "height": 533,
          "referenced_widgets": [
            "f542c9d886b343618a5776a4ee8ded3a",
            "442b88dcdd394847846c718c50b825d9",
            "a00f8bf0f053442ca9beb7629c9e49dc",
            "4dd34d5a017440ca9f3758c6ed88e806",
            "9c5fe581348e4fe5a4e061a5dcc1c65e",
            "ae9e45319f4a408f90901c9484ec4cc7"
          ]
        },
        "id": "oxqCHynjZT1e",
        "outputId": "7ac315a1-0c78-494e-d1e0-de8aff861d00"
      },
      "execution_count": 22,
      "outputs": [
        {
          "output_type": "stream",
          "name": "stdout",
          "text": [
            "Running model for K=3\n"
          ]
        },
        {
          "output_type": "display_data",
          "data": {
            "text/plain": [
              "Output()"
            ],
            "application/vnd.jupyter.widget-view+json": {
              "version_major": 2,
              "version_minor": 0,
              "model_id": "f542c9d886b343618a5776a4ee8ded3a"
            }
          },
          "metadata": {}
        },
        {
          "output_type": "display_data",
          "data": {
            "text/plain": [],
            "text/html": [
              "<pre style=\"white-space:pre;overflow-x:auto;line-height:normal;font-family:Menlo,'DejaVu Sans Mono',consolas,'Courier New',monospace\"></pre>\n"
            ]
          },
          "metadata": {}
        },
        {
          "output_type": "stream",
          "name": "stderr",
          "text": [
            "/usr/local/lib/python3.11/dist-packages/arviz/stats/diagnostics.py:596: RuntimeWarning: invalid value encountered in scalar divide\n",
            "  (between_chain_variance / within_chain_variance + num_samples - 1) / (num_samples)\n",
            "ERROR:pymc.stats.convergence:There were 5 divergences after tuning. Increase `target_accept` or reparameterize.\n",
            "ERROR:pymc.stats.convergence:The effective sample size per chain is smaller than 100 for some parameters.  A higher number is needed for reliable rhat and ess computation. See https://arxiv.org/abs/1903.08008 for details\n"
          ]
        },
        {
          "output_type": "stream",
          "name": "stdout",
          "text": [
            "Running model for K=4\n"
          ]
        },
        {
          "output_type": "display_data",
          "data": {
            "text/plain": [
              "Output()"
            ],
            "application/vnd.jupyter.widget-view+json": {
              "version_major": 2,
              "version_minor": 0,
              "model_id": "a00f8bf0f053442ca9beb7629c9e49dc"
            }
          },
          "metadata": {}
        },
        {
          "output_type": "display_data",
          "data": {
            "text/plain": [],
            "text/html": [
              "<pre style=\"white-space:pre;overflow-x:auto;line-height:normal;font-family:Menlo,'DejaVu Sans Mono',consolas,'Courier New',monospace\"></pre>\n"
            ]
          },
          "metadata": {}
        },
        {
          "output_type": "stream",
          "name": "stderr",
          "text": [
            "ERROR:pymc.stats.convergence:There were 1 divergences after tuning. Increase `target_accept` or reparameterize.\n",
            "ERROR:pymc.stats.convergence:The effective sample size per chain is smaller than 100 for some parameters.  A higher number is needed for reliable rhat and ess computation. See https://arxiv.org/abs/1903.08008 for details\n"
          ]
        },
        {
          "output_type": "stream",
          "name": "stdout",
          "text": [
            "Running model for K=5\n"
          ]
        },
        {
          "output_type": "display_data",
          "data": {
            "text/plain": [
              "Output()"
            ],
            "application/vnd.jupyter.widget-view+json": {
              "version_major": 2,
              "version_minor": 0,
              "model_id": "9c5fe581348e4fe5a4e061a5dcc1c65e"
            }
          },
          "metadata": {}
        },
        {
          "output_type": "display_data",
          "data": {
            "text/plain": [],
            "text/html": [
              "<pre style=\"white-space:pre;overflow-x:auto;line-height:normal;font-family:Menlo,'DejaVu Sans Mono',consolas,'Courier New',monospace\"></pre>\n"
            ]
          },
          "metadata": {}
        },
        {
          "output_type": "stream",
          "name": "stderr",
          "text": [
            "/usr/local/lib/python3.11/dist-packages/arviz/stats/diagnostics.py:596: RuntimeWarning: invalid value encountered in scalar divide\n",
            "  (between_chain_variance / within_chain_variance + num_samples - 1) / (num_samples)\n",
            "ERROR:pymc.stats.convergence:The effective sample size per chain is smaller than 100 for some parameters.  A higher number is needed for reliable rhat and ess computation. See https://arxiv.org/abs/1903.08008 for details\n"
          ]
        }
      ]
    },
    {
      "cell_type": "code",
      "source": [
        "def compute_cluster_probabilities(trace, K, weights):\n",
        "    posterior_samples = az.extract(trace)\n",
        "    cluster_assignments = posterior_samples[\"category\"]\n",
        "\n",
        "\n",
        "    cluster_probs = np.zeros((len(weights), K))\n",
        "\n",
        "    for i in range(K):\n",
        "        cluster_probs[:, i] = (cluster_assignments == i).mean(axis=0)  # Mean over posterior samples\n",
        "\n",
        "    return cluster_probs\n",
        "\n",
        "K_values = [3, 4, 5]\n",
        "\n",
        "cluster_probs_dict = {K: compute_cluster_probabilities(traces[i], K, weights) for i, K in enumerate(K_values)}"
      ],
      "metadata": {
        "id": "4dD46nQzaNKA"
      },
      "execution_count": 24,
      "outputs": []
    },
    {
      "cell_type": "code",
      "source": [
        "for K in cluster_probs_dict:\n",
        "    print(f\"Cluster probabilities for K={K}:\")\n",
        "    print(cluster_probs_dict[K])\n",
        "    print(\"\\n\")\n"
      ],
      "metadata": {
        "colab": {
          "base_uri": "https://localhost:8080/"
        },
        "id": "dNPr8aaTeAsF",
        "outputId": "ab50a823-0795-48b0-ec8e-099d7416833a"
      },
      "execution_count": 25,
      "outputs": [
        {
          "output_type": "stream",
          "name": "stdout",
          "text": [
            "Cluster probabilities for K=3:\n",
            "[[0.265 0.545 0.19 ]\n",
            " [0.25  0.53  0.22 ]\n",
            " [0.255 0.525 0.22 ]\n",
            " [0.26  0.5   0.24 ]\n",
            " [0.28  0.5   0.22 ]\n",
            " [0.27  0.49  0.24 ]\n",
            " [0.26  0.52  0.22 ]\n",
            " [0.245 0.535 0.22 ]\n",
            " [0.23  0.55  0.22 ]\n",
            " [0.245 0.495 0.26 ]\n",
            " [0.24  0.495 0.265]\n",
            " [0.235 0.49  0.275]\n",
            " [0.245 0.525 0.23 ]\n",
            " [0.255 0.515 0.23 ]\n",
            " [0.245 0.505 0.25 ]\n",
            " [0.215 0.575 0.21 ]\n",
            " [0.22  0.585 0.195]\n",
            " [0.22  0.535 0.245]\n",
            " [0.24  0.46  0.3  ]\n",
            " [0.235 0.46  0.305]\n",
            " [0.225 0.475 0.3  ]\n",
            " [0.225 0.46  0.315]\n",
            " [0.23  0.44  0.33 ]\n",
            " [0.22  0.425 0.355]\n",
            " [0.23  0.47  0.3  ]\n",
            " [0.225 0.465 0.31 ]\n",
            " [0.225 0.495 0.28 ]\n",
            " [0.22  0.52  0.26 ]\n",
            " [0.245 0.47  0.285]\n",
            " [0.23  0.525 0.245]\n",
            " [0.255 0.495 0.25 ]\n",
            " [0.235 0.46  0.305]\n",
            " [0.245 0.475 0.28 ]\n",
            " [0.24  0.48  0.28 ]\n",
            " [0.26  0.445 0.295]\n",
            " [0.255 0.445 0.3  ]\n",
            " [0.27  0.42  0.31 ]\n",
            " [0.27  0.38  0.35 ]\n",
            " [0.28  0.395 0.325]\n",
            " [0.26  0.4   0.34 ]\n",
            " [0.245 0.375 0.38 ]\n",
            " [0.25  0.345 0.405]\n",
            " [0.235 0.34  0.425]\n",
            " [0.245 0.345 0.41 ]\n",
            " [0.245 0.365 0.39 ]\n",
            " [0.25  0.365 0.385]\n",
            " [0.27  0.38  0.35 ]\n",
            " [0.27  0.375 0.355]\n",
            " [0.285 0.43  0.285]\n",
            " [0.255 0.495 0.25 ]\n",
            " [0.25  0.495 0.255]\n",
            " [0.26  0.505 0.235]\n",
            " [0.25  0.535 0.215]\n",
            " [0.245 0.51  0.245]\n",
            " [0.24  0.51  0.25 ]\n",
            " [0.24  0.44  0.32 ]\n",
            " [0.21  0.465 0.325]\n",
            " [0.225 0.47  0.305]\n",
            " [0.235 0.48  0.285]\n",
            " [0.23  0.525 0.245]\n",
            " [0.21  0.575 0.215]\n",
            " [0.225 0.57  0.205]\n",
            " [0.24  0.56  0.2  ]\n",
            " [0.235 0.58  0.185]\n",
            " [0.235 0.585 0.18 ]\n",
            " [0.25  0.605 0.145]\n",
            " [0.245 0.575 0.18 ]\n",
            " [0.24  0.605 0.155]\n",
            " [0.25  0.585 0.165]\n",
            " [0.25  0.585 0.165]\n",
            " [0.255 0.57  0.175]\n",
            " [0.25  0.585 0.165]\n",
            " [0.255 0.605 0.14 ]\n",
            " [0.24  0.605 0.155]\n",
            " [0.24  0.575 0.185]\n",
            " [0.24  0.595 0.165]\n",
            " [0.25  0.58  0.17 ]\n",
            " [0.26  0.585 0.155]\n",
            " [0.24  0.535 0.225]\n",
            " [0.26  0.545 0.195]\n",
            " [0.26  0.5   0.24 ]\n",
            " [0.265 0.465 0.27 ]\n",
            " [0.27  0.47  0.26 ]\n",
            " [0.26  0.515 0.225]\n",
            " [0.26  0.475 0.265]\n",
            " [0.265 0.505 0.23 ]\n",
            " [0.255 0.48  0.265]\n",
            " [0.255 0.515 0.23 ]\n",
            " [0.235 0.5   0.265]\n",
            " [0.24  0.44  0.32 ]\n",
            " [0.245 0.425 0.33 ]\n",
            " [0.24  0.4   0.36 ]\n",
            " [0.225 0.41  0.365]\n",
            " [0.23  0.375 0.395]\n",
            " [0.24  0.38  0.38 ]\n",
            " [0.255 0.34  0.405]\n",
            " [0.25  0.37  0.38 ]\n",
            " [0.265 0.415 0.32 ]\n",
            " [0.26  0.38  0.36 ]\n",
            " [0.28  0.375 0.345]\n",
            " [0.245 0.155 0.6  ]\n",
            " [0.25  0.145 0.605]\n",
            " [0.265 0.16  0.575]\n",
            " [0.225 0.15  0.625]\n",
            " [0.225 0.125 0.65 ]\n",
            " [0.215 0.19  0.595]\n",
            " [0.22  0.205 0.575]\n",
            " [0.24  0.285 0.475]\n",
            " [0.225 0.235 0.54 ]\n",
            " [0.23  0.175 0.595]\n",
            " [0.225 0.15  0.625]\n",
            " [0.23  0.09  0.68 ]\n",
            " [0.245 0.05  0.705]\n",
            " [0.24  0.065 0.695]\n",
            " [0.24  0.07  0.69 ]\n",
            " [0.235 0.08  0.685]\n",
            " [0.22  0.12  0.66 ]\n",
            " [0.23  0.11  0.66 ]\n",
            " [0.235 0.07  0.695]\n",
            " [0.24  0.055 0.705]\n",
            " [0.255 0.08  0.665]\n",
            " [0.255 0.065 0.68 ]\n",
            " [0.245 0.065 0.69 ]\n",
            " [0.25  0.085 0.665]\n",
            " [0.255 0.1   0.645]\n",
            " [0.27  0.115 0.615]\n",
            " [0.245 0.145 0.61 ]\n",
            " [0.28  0.115 0.605]\n",
            " [0.26  0.13  0.61 ]\n",
            " [0.28  0.12  0.6  ]\n",
            " [0.255 0.155 0.59 ]\n",
            " [0.255 0.115 0.63 ]\n",
            " [0.275 0.085 0.64 ]\n",
            " [0.265 0.11  0.625]\n",
            " [0.26  0.11  0.63 ]\n",
            " [0.255 0.095 0.65 ]\n",
            " [0.26  0.095 0.645]\n",
            " [0.27  0.1   0.63 ]\n",
            " [0.265 0.115 0.62 ]\n",
            " [0.26  0.155 0.585]\n",
            " [0.27  0.125 0.605]\n",
            " [0.28  0.15  0.57 ]\n",
            " [0.295 0.175 0.53 ]\n",
            " [0.275 0.19  0.535]\n",
            " [0.285 0.115 0.6  ]\n",
            " [0.3   0.1   0.6  ]\n",
            " [0.29  0.1   0.61 ]\n",
            " [0.315 0.125 0.56 ]\n",
            " [0.285 0.135 0.58 ]\n",
            " [0.3   0.085 0.615]\n",
            " [0.3   0.085 0.615]\n",
            " [0.275 0.115 0.61 ]\n",
            " [0.265 0.11  0.625]\n",
            " [0.28  0.095 0.625]\n",
            " [0.27  0.08  0.65 ]\n",
            " [0.285 0.09  0.625]\n",
            " [0.295 0.085 0.62 ]\n",
            " [0.27  0.075 0.655]\n",
            " [0.255 0.07  0.675]\n",
            " [0.265 0.115 0.62 ]\n",
            " [0.27  0.09  0.64 ]\n",
            " [0.275 0.115 0.61 ]\n",
            " [0.27  0.125 0.605]\n",
            " [0.235 0.145 0.62 ]\n",
            " [0.25  0.105 0.645]\n",
            " [0.245 0.065 0.69 ]\n",
            " [0.24  0.07  0.69 ]\n",
            " [0.265 0.095 0.64 ]\n",
            " [0.24  0.095 0.665]\n",
            " [0.245 0.075 0.68 ]\n",
            " [0.26  0.055 0.685]\n",
            " [0.26  0.05  0.69 ]\n",
            " [0.285 0.055 0.66 ]\n",
            " [0.27  0.07  0.66 ]\n",
            " [0.265 0.095 0.64 ]\n",
            " [0.285 0.075 0.64 ]\n",
            " [0.27  0.145 0.585]\n",
            " [0.31  0.105 0.585]\n",
            " [0.32  0.135 0.545]\n",
            " [0.32  0.11  0.57 ]\n",
            " [0.305 0.115 0.58 ]\n",
            " [0.305 0.125 0.57 ]\n",
            " [0.295 0.095 0.61 ]\n",
            " [0.27  0.085 0.645]\n",
            " [0.245 0.09  0.665]\n",
            " [0.26  0.06  0.68 ]\n",
            " [0.26  0.06  0.68 ]\n",
            " [0.26  0.075 0.665]\n",
            " [0.24  0.08  0.68 ]\n",
            " [0.265 0.085 0.65 ]\n",
            " [0.26  0.12  0.62 ]\n",
            " [0.28  0.06  0.66 ]\n",
            " [0.275 0.095 0.63 ]\n",
            " [0.31  0.085 0.605]\n",
            " [0.28  0.075 0.645]\n",
            " [0.31  0.065 0.625]\n",
            " [0.285 0.07  0.645]\n",
            " [0.275 0.09  0.635]\n",
            " [0.27  0.12  0.61 ]\n",
            " [0.28  0.135 0.585]]\n",
            "\n",
            "\n",
            "Cluster probabilities for K=4:\n",
            "[[0.005 0.345 0.27  0.38 ]\n",
            " [0.005 0.3   0.265 0.43 ]\n",
            " [0.005 0.275 0.27  0.45 ]\n",
            " [0.    0.255 0.28  0.465]\n",
            " [0.    0.255 0.27  0.475]\n",
            " [0.    0.295 0.255 0.45 ]\n",
            " [0.005 0.315 0.26  0.42 ]\n",
            " [0.005 0.38  0.25  0.365]\n",
            " [0.    0.39  0.255 0.355]\n",
            " [0.015 0.375 0.255 0.355]\n",
            " [0.01  0.375 0.255 0.36 ]\n",
            " [0.005 0.295 0.275 0.425]\n",
            " [0.    0.295 0.24  0.465]\n",
            " [0.    0.34  0.175 0.485]\n",
            " [0.    0.28  0.19  0.53 ]\n",
            " [0.005 0.295 0.195 0.505]\n",
            " [0.02  0.29  0.22  0.47 ]\n",
            " [0.01  0.31  0.24  0.44 ]\n",
            " [0.02  0.345 0.245 0.39 ]\n",
            " [0.025 0.335 0.25  0.39 ]\n",
            " [0.035 0.245 0.27  0.45 ]\n",
            " [0.04  0.22  0.275 0.465]\n",
            " [0.055 0.25  0.275 0.42 ]\n",
            " [0.115 0.235 0.24  0.41 ]\n",
            " [0.15  0.205 0.24  0.405]\n",
            " [0.16  0.22  0.22  0.4  ]\n",
            " [0.12  0.21  0.24  0.43 ]\n",
            " [0.06  0.235 0.24  0.465]\n",
            " [0.04  0.235 0.235 0.49 ]\n",
            " [0.03  0.26  0.225 0.485]\n",
            " [0.035 0.23  0.24  0.495]\n",
            " [0.04  0.235 0.23  0.495]\n",
            " [0.02  0.22  0.245 0.515]\n",
            " [0.03  0.21  0.255 0.505]\n",
            " [0.055 0.15  0.27  0.525]\n",
            " [0.05  0.16  0.285 0.505]\n",
            " [0.055 0.195 0.265 0.485]\n",
            " [0.05  0.175 0.285 0.49 ]\n",
            " [0.025 0.255 0.28  0.44 ]\n",
            " [0.045 0.265 0.275 0.415]\n",
            " [0.05  0.26  0.29  0.4  ]\n",
            " [0.04  0.245 0.305 0.41 ]\n",
            " [0.01  0.205 0.34  0.445]\n",
            " [0.02  0.2   0.34  0.44 ]\n",
            " [0.01  0.25  0.36  0.38 ]\n",
            " [0.01  0.26  0.325 0.405]\n",
            " [0.015 0.28  0.325 0.38 ]\n",
            " [0.01  0.335 0.32  0.335]\n",
            " [0.    0.35  0.33  0.32 ]\n",
            " [0.    0.355 0.345 0.3  ]\n",
            " [0.    0.315 0.36  0.325]\n",
            " [0.    0.34  0.34  0.32 ]\n",
            " [0.005 0.335 0.31  0.35 ]\n",
            " [0.02  0.27  0.29  0.42 ]\n",
            " [0.005 0.25  0.285 0.46 ]\n",
            " [0.005 0.25  0.27  0.475]\n",
            " [0.    0.22  0.265 0.515]\n",
            " [0.    0.195 0.285 0.52 ]\n",
            " [0.005 0.215 0.305 0.475]\n",
            " [0.005 0.19  0.3   0.505]\n",
            " [0.025 0.155 0.285 0.535]\n",
            " [0.02  0.19  0.27  0.52 ]\n",
            " [0.03  0.18  0.29  0.5  ]\n",
            " [0.045 0.175 0.295 0.485]\n",
            " [0.03  0.185 0.295 0.49 ]\n",
            " [0.05  0.17  0.29  0.49 ]\n",
            " [0.04  0.16  0.285 0.515]\n",
            " [0.04  0.19  0.27  0.5  ]\n",
            " [0.06  0.185 0.265 0.49 ]\n",
            " [0.115 0.21  0.255 0.42 ]\n",
            " [0.1   0.275 0.25  0.375]\n",
            " [0.08  0.27  0.255 0.395]\n",
            " [0.12  0.265 0.26  0.355]\n",
            " [0.155 0.24  0.26  0.345]\n",
            " [0.185 0.275 0.25  0.29 ]\n",
            " [0.22  0.345 0.24  0.195]\n",
            " [0.265 0.255 0.24  0.24 ]\n",
            " [0.27  0.205 0.24  0.285]\n",
            " [0.325 0.165 0.23  0.28 ]\n",
            " [0.315 0.15  0.215 0.32 ]\n",
            " [0.29  0.17  0.22  0.32 ]\n",
            " [0.3   0.185 0.2   0.315]\n",
            " [0.36  0.175 0.21  0.255]\n",
            " [0.335 0.16  0.225 0.28 ]\n",
            " [0.335 0.185 0.23  0.25 ]\n",
            " [0.33  0.225 0.225 0.22 ]\n",
            " [0.29  0.23  0.215 0.265]\n",
            " [0.27  0.25  0.22  0.26 ]\n",
            " [0.21  0.325 0.18  0.285]\n",
            " [0.24  0.33  0.16  0.27 ]\n",
            " [0.245 0.29  0.17  0.295]\n",
            " [0.195 0.35  0.19  0.265]\n",
            " [0.26  0.27  0.185 0.285]\n",
            " [0.285 0.32  0.175 0.22 ]\n",
            " [0.32  0.32  0.165 0.195]\n",
            " [0.33  0.3   0.185 0.185]\n",
            " [0.31  0.305 0.175 0.21 ]\n",
            " [0.335 0.315 0.19  0.16 ]\n",
            " [0.315 0.325 0.21  0.15 ]\n",
            " [0.335 0.33  0.21  0.125]\n",
            " [0.65  0.265 0.03  0.055]\n",
            " [0.645 0.275 0.025 0.055]\n",
            " [0.655 0.28  0.005 0.06 ]\n",
            " [0.67  0.26  0.005 0.065]\n",
            " [0.655 0.25  0.005 0.09 ]\n",
            " [0.67  0.225 0.005 0.1  ]\n",
            " [0.685 0.22  0.025 0.07 ]\n",
            " [0.685 0.22  0.02  0.075]\n",
            " [0.675 0.205 0.025 0.095]\n",
            " [0.675 0.225 0.015 0.085]\n",
            " [0.68  0.245 0.005 0.07 ]\n",
            " [0.675 0.24  0.03  0.055]\n",
            " [0.65  0.265 0.035 0.05 ]\n",
            " [0.67  0.27  0.015 0.045]\n",
            " [0.68  0.26  0.015 0.045]\n",
            " [0.65  0.275 0.025 0.05 ]\n",
            " [0.615 0.28  0.03  0.075]\n",
            " [0.62  0.295 0.025 0.06 ]\n",
            " [0.6   0.305 0.03  0.065]\n",
            " [0.615 0.295 0.025 0.065]\n",
            " [0.6   0.275 0.04  0.085]\n",
            " [0.665 0.275 0.025 0.035]\n",
            " [0.64  0.285 0.03  0.045]\n",
            " [0.65  0.285 0.01  0.055]\n",
            " [0.64  0.305 0.01  0.045]\n",
            " [0.68  0.265 0.02  0.035]\n",
            " [0.715 0.25  0.03  0.005]\n",
            " [0.695 0.255 0.04  0.01 ]\n",
            " [0.685 0.265 0.05  0.   ]\n",
            " [0.685 0.255 0.06  0.   ]\n",
            " [0.685 0.255 0.06  0.   ]\n",
            " [0.675 0.24  0.08  0.005]\n",
            " [0.69  0.22  0.09  0.   ]\n",
            " [0.69  0.2   0.105 0.005]\n",
            " [0.685 0.18  0.13  0.005]\n",
            " [0.665 0.21  0.115 0.01 ]\n",
            " [0.655 0.22  0.115 0.01 ]\n",
            " [0.65  0.195 0.14  0.015]\n",
            " [0.685 0.205 0.105 0.005]\n",
            " [0.675 0.205 0.115 0.005]\n",
            " [0.65  0.205 0.13  0.015]\n",
            " [0.67  0.225 0.09  0.015]\n",
            " [0.665 0.22  0.1   0.015]\n",
            " [0.655 0.235 0.1   0.01 ]\n",
            " [0.645 0.215 0.11  0.03 ]\n",
            " [0.64  0.205 0.135 0.02 ]\n",
            " [0.63  0.205 0.15  0.015]\n",
            " [0.66  0.19  0.135 0.015]\n",
            " [0.665 0.165 0.155 0.015]\n",
            " [0.71  0.14  0.135 0.015]\n",
            " [0.67  0.165 0.155 0.01 ]\n",
            " [0.63  0.155 0.195 0.02 ]\n",
            " [0.645 0.19  0.145 0.02 ]\n",
            " [0.65  0.19  0.135 0.025]\n",
            " [0.63  0.18  0.14  0.05 ]\n",
            " [0.61  0.165 0.135 0.09 ]\n",
            " [0.6   0.185 0.095 0.12 ]\n",
            " [0.57  0.185 0.09  0.155]\n",
            " [0.595 0.2   0.115 0.09 ]\n",
            " [0.65  0.195 0.11  0.045]\n",
            " [0.64  0.21  0.1   0.05 ]\n",
            " [0.625 0.21  0.085 0.08 ]\n",
            " [0.645 0.195 0.075 0.085]\n",
            " [0.615 0.185 0.1   0.1  ]\n",
            " [0.585 0.19  0.105 0.12 ]\n",
            " [0.555 0.18  0.1   0.165]\n",
            " [0.575 0.17  0.115 0.14 ]\n",
            " [0.58  0.135 0.14  0.145]\n",
            " [0.585 0.115 0.15  0.15 ]\n",
            " [0.55  0.12  0.14  0.19 ]\n",
            " [0.52  0.13  0.2   0.15 ]\n",
            " [0.54  0.145 0.205 0.11 ]\n",
            " [0.53  0.145 0.23  0.095]\n",
            " [0.505 0.175 0.21  0.11 ]\n",
            " [0.49  0.185 0.225 0.1  ]\n",
            " [0.495 0.19  0.24  0.075]\n",
            " [0.48  0.2   0.22  0.1  ]\n",
            " [0.525 0.205 0.2   0.07 ]\n",
            " [0.485 0.215 0.22  0.08 ]\n",
            " [0.435 0.22  0.25  0.095]\n",
            " [0.37  0.22  0.285 0.125]\n",
            " [0.36  0.22  0.295 0.125]\n",
            " [0.41  0.215 0.295 0.08 ]\n",
            " [0.41  0.215 0.3   0.075]\n",
            " [0.455 0.22  0.26  0.065]\n",
            " [0.5   0.225 0.205 0.07 ]\n",
            " [0.51  0.23  0.155 0.105]\n",
            " [0.51  0.21  0.175 0.105]\n",
            " [0.465 0.195 0.2   0.14 ]\n",
            " [0.495 0.19  0.185 0.13 ]\n",
            " [0.515 0.205 0.19  0.09 ]\n",
            " [0.515 0.205 0.205 0.075]\n",
            " [0.515 0.195 0.24  0.05 ]\n",
            " [0.56  0.18  0.195 0.065]\n",
            " [0.605 0.205 0.115 0.075]\n",
            " [0.63  0.215 0.1   0.055]\n",
            " [0.64  0.21  0.11  0.04 ]\n",
            " [0.63  0.195 0.12  0.055]\n",
            " [0.62  0.21  0.1   0.07 ]\n",
            " [0.605 0.225 0.085 0.085]]\n",
            "\n",
            "\n",
            "Cluster probabilities for K=5:\n",
            "[[0.23  0.55  0.045 0.055 0.12 ]\n",
            " [0.255 0.54  0.06  0.05  0.095]\n",
            " [0.27  0.54  0.055 0.05  0.085]\n",
            " [0.265 0.5   0.07  0.04  0.125]\n",
            " [0.275 0.5   0.06  0.035 0.13 ]\n",
            " [0.25  0.465 0.075 0.03  0.18 ]\n",
            " [0.225 0.48  0.1   0.02  0.175]\n",
            " [0.22  0.465 0.12  0.015 0.18 ]\n",
            " [0.215 0.505 0.15  0.015 0.115]\n",
            " [0.215 0.54  0.145 0.025 0.075]\n",
            " [0.21  0.545 0.145 0.025 0.075]\n",
            " [0.21  0.575 0.125 0.025 0.065]\n",
            " [0.205 0.55  0.135 0.02  0.09 ]\n",
            " [0.215 0.525 0.085 0.025 0.15 ]\n",
            " [0.225 0.57  0.085 0.01  0.11 ]\n",
            " [0.21  0.57  0.075 0.01  0.135]\n",
            " [0.205 0.57  0.075 0.005 0.145]\n",
            " [0.205 0.57  0.075 0.01  0.14 ]\n",
            " [0.215 0.535 0.055 0.    0.195]\n",
            " [0.225 0.55  0.045 0.005 0.175]\n",
            " [0.24  0.55  0.065 0.    0.145]\n",
            " [0.235 0.535 0.065 0.    0.165]\n",
            " [0.23  0.55  0.04  0.    0.18 ]\n",
            " [0.22  0.56  0.04  0.015 0.165]\n",
            " [0.195 0.535 0.05  0.015 0.205]\n",
            " [0.2   0.465 0.095 0.01  0.23 ]\n",
            " [0.215 0.465 0.09  0.    0.23 ]\n",
            " [0.225 0.475 0.11  0.005 0.185]\n",
            " [0.205 0.48  0.15  0.    0.165]\n",
            " [0.205 0.475 0.12  0.01  0.19 ]\n",
            " [0.215 0.46  0.115 0.02  0.19 ]\n",
            " [0.235 0.475 0.07  0.035 0.185]\n",
            " [0.225 0.465 0.085 0.03  0.195]\n",
            " [0.245 0.42  0.07  0.055 0.21 ]\n",
            " [0.215 0.435 0.05  0.09  0.21 ]\n",
            " [0.215 0.46  0.035 0.085 0.205]\n",
            " [0.21  0.45  0.045 0.11  0.185]\n",
            " [0.21  0.395 0.035 0.105 0.255]\n",
            " [0.225 0.385 0.02  0.09  0.28 ]\n",
            " [0.205 0.36  0.035 0.12  0.28 ]\n",
            " [0.2   0.335 0.015 0.12  0.33 ]\n",
            " [0.21  0.36  0.015 0.115 0.3  ]\n",
            " [0.205 0.355 0.01  0.1   0.33 ]\n",
            " [0.22  0.395 0.01  0.065 0.31 ]\n",
            " [0.245 0.425 0.025 0.05  0.255]\n",
            " [0.245 0.375 0.05  0.045 0.285]\n",
            " [0.25  0.36  0.035 0.055 0.3  ]\n",
            " [0.235 0.35  0.02  0.085 0.31 ]\n",
            " [0.24  0.315 0.02  0.1   0.325]\n",
            " [0.225 0.29  0.035 0.1   0.35 ]\n",
            " [0.225 0.35  0.035 0.105 0.285]\n",
            " [0.23  0.325 0.045 0.095 0.305]\n",
            " [0.22  0.305 0.03  0.12  0.325]\n",
            " [0.2   0.335 0.035 0.105 0.325]\n",
            " [0.22  0.44  0.02  0.08  0.24 ]\n",
            " [0.2   0.445 0.01  0.1   0.245]\n",
            " [0.185 0.485 0.015 0.1   0.215]\n",
            " [0.19  0.49  0.025 0.1   0.195]\n",
            " [0.215 0.51  0.015 0.095 0.165]\n",
            " [0.23  0.49  0.035 0.075 0.17 ]\n",
            " [0.205 0.515 0.02  0.075 0.185]\n",
            " [0.185 0.54  0.02  0.08  0.175]\n",
            " [0.195 0.495 0.035 0.085 0.19 ]\n",
            " [0.18  0.515 0.025 0.06  0.22 ]\n",
            " [0.185 0.51  0.015 0.065 0.225]\n",
            " [0.18  0.515 0.03  0.075 0.2  ]\n",
            " [0.165 0.505 0.01  0.105 0.215]\n",
            " [0.175 0.475 0.045 0.095 0.21 ]\n",
            " [0.195 0.405 0.065 0.08  0.255]\n",
            " [0.17  0.41  0.075 0.095 0.25 ]\n",
            " [0.19  0.41  0.1   0.06  0.24 ]\n",
            " [0.215 0.415 0.11  0.025 0.235]\n",
            " [0.215 0.43  0.13  0.015 0.21 ]\n",
            " [0.215 0.455 0.14  0.01  0.18 ]\n",
            " [0.19  0.425 0.16  0.01  0.215]\n",
            " [0.2   0.465 0.155 0.01  0.17 ]\n",
            " [0.21  0.465 0.135 0.005 0.185]\n",
            " [0.215 0.46  0.15  0.005 0.17 ]\n",
            " [0.21  0.495 0.13  0.    0.165]\n",
            " [0.22  0.445 0.13  0.005 0.2  ]\n",
            " [0.24  0.445 0.09  0.01  0.215]\n",
            " [0.25  0.405 0.135 0.01  0.2  ]\n",
            " [0.245 0.415 0.145 0.01  0.185]\n",
            " [0.26  0.415 0.125 0.015 0.185]\n",
            " [0.26  0.395 0.145 0.02  0.18 ]\n",
            " [0.27  0.405 0.115 0.02  0.19 ]\n",
            " [0.265 0.43  0.11  0.035 0.16 ]\n",
            " [0.26  0.445 0.105 0.025 0.165]\n",
            " [0.26  0.475 0.1   0.02  0.145]\n",
            " [0.26  0.505 0.085 0.035 0.115]\n",
            " [0.25  0.495 0.09  0.02  0.145]\n",
            " [0.245 0.45  0.09  0.02  0.195]\n",
            " [0.24  0.49  0.09  0.02  0.16 ]\n",
            " [0.23  0.47  0.095 0.03  0.175]\n",
            " [0.245 0.44  0.08  0.03  0.205]\n",
            " [0.24  0.445 0.075 0.02  0.22 ]\n",
            " [0.245 0.5   0.065 0.01  0.18 ]\n",
            " [0.245 0.515 0.045 0.02  0.175]\n",
            " [0.255 0.5   0.035 0.035 0.175]\n",
            " [0.25  0.455 0.035 0.025 0.235]\n",
            " [0.24  0.265 0.44  0.02  0.035]\n",
            " [0.245 0.245 0.44  0.035 0.035]\n",
            " [0.24  0.25  0.44  0.005 0.065]\n",
            " [0.245 0.27  0.42  0.005 0.06 ]\n",
            " [0.245 0.26  0.41  0.005 0.08 ]\n",
            " [0.24  0.275 0.385 0.005 0.095]\n",
            " [0.24  0.255 0.425 0.01  0.07 ]\n",
            " [0.235 0.215 0.455 0.01  0.085]\n",
            " [0.245 0.2   0.48  0.005 0.07 ]\n",
            " [0.23  0.195 0.485 0.025 0.065]\n",
            " [0.245 0.215 0.45  0.02  0.07 ]\n",
            " [0.225 0.195 0.47  0.02  0.09 ]\n",
            " [0.22  0.21  0.44  0.05  0.08 ]\n",
            " [0.225 0.21  0.405 0.06  0.1  ]\n",
            " [0.23  0.155 0.425 0.05  0.14 ]\n",
            " [0.23  0.22  0.365 0.045 0.14 ]\n",
            " [0.23  0.245 0.33  0.05  0.145]\n",
            " [0.24  0.245 0.34  0.015 0.16 ]\n",
            " [0.255 0.285 0.275 0.03  0.155]\n",
            " [0.235 0.36  0.21  0.03  0.165]\n",
            " [0.24  0.34  0.21  0.04  0.17 ]\n",
            " [0.22  0.325 0.225 0.04  0.19 ]\n",
            " [0.205 0.36  0.17  0.045 0.22 ]\n",
            " [0.215 0.335 0.215 0.045 0.19 ]\n",
            " [0.22  0.34  0.235 0.055 0.15 ]\n",
            " [0.225 0.365 0.225 0.035 0.15 ]\n",
            " [0.205 0.335 0.26  0.06  0.14 ]\n",
            " [0.195 0.295 0.33  0.075 0.105]\n",
            " [0.21  0.285 0.335 0.095 0.075]\n",
            " [0.21  0.27  0.34  0.095 0.085]\n",
            " [0.205 0.28  0.305 0.06  0.15 ]\n",
            " [0.185 0.285 0.32  0.075 0.135]\n",
            " [0.23  0.245 0.345 0.065 0.115]\n",
            " [0.23  0.26  0.345 0.065 0.1  ]\n",
            " [0.22  0.24  0.335 0.085 0.12 ]\n",
            " [0.205 0.265 0.31  0.1   0.12 ]\n",
            " [0.205 0.19  0.355 0.155 0.095]\n",
            " [0.19  0.225 0.365 0.12  0.1  ]\n",
            " [0.21  0.25  0.335 0.11  0.095]\n",
            " [0.21  0.235 0.39  0.115 0.05 ]\n",
            " [0.195 0.265 0.355 0.12  0.065]\n",
            " [0.2   0.285 0.345 0.105 0.065]\n",
            " [0.2   0.305 0.325 0.125 0.045]\n",
            " [0.215 0.315 0.305 0.145 0.02 ]\n",
            " [0.21  0.38  0.295 0.09  0.025]\n",
            " [0.23  0.365 0.3   0.08  0.025]\n",
            " [0.24  0.335 0.305 0.085 0.035]\n",
            " [0.24  0.385 0.27  0.07  0.035]\n",
            " [0.25  0.415 0.26  0.05  0.025]\n",
            " [0.255 0.405 0.275 0.045 0.02 ]\n",
            " [0.265 0.36  0.275 0.065 0.035]\n",
            " [0.26  0.365 0.265 0.07  0.04 ]\n",
            " [0.255 0.425 0.22  0.085 0.015]\n",
            " [0.265 0.415 0.235 0.085 0.   ]\n",
            " [0.255 0.4   0.255 0.09  0.   ]\n",
            " [0.255 0.43  0.245 0.07  0.   ]\n",
            " [0.26  0.425 0.225 0.09  0.   ]\n",
            " [0.27  0.41  0.2   0.12  0.   ]\n",
            " [0.26  0.415 0.205 0.12  0.   ]\n",
            " [0.265 0.43  0.185 0.115 0.005]\n",
            " [0.255 0.425 0.18  0.14  0.   ]\n",
            " [0.25  0.47  0.15  0.13  0.   ]\n",
            " [0.235 0.49  0.14  0.135 0.   ]\n",
            " [0.23  0.44  0.135 0.185 0.01 ]\n",
            " [0.225 0.48  0.11  0.15  0.035]\n",
            " [0.21  0.47  0.11  0.14  0.07 ]\n",
            " [0.215 0.515 0.095 0.12  0.055]\n",
            " [0.235 0.495 0.065 0.145 0.06 ]\n",
            " [0.245 0.48  0.06  0.12  0.095]\n",
            " [0.25  0.49  0.06  0.115 0.085]\n",
            " [0.255 0.535 0.08  0.1   0.03 ]\n",
            " [0.26  0.53  0.075 0.11  0.025]\n",
            " [0.255 0.5   0.07  0.135 0.04 ]\n",
            " [0.26  0.475 0.06  0.14  0.065]\n",
            " [0.285 0.43  0.08  0.165 0.04 ]\n",
            " [0.285 0.44  0.12  0.12  0.035]\n",
            " [0.275 0.455 0.13  0.115 0.025]\n",
            " [0.27  0.435 0.145 0.11  0.04 ]\n",
            " [0.27  0.44  0.14  0.11  0.04 ]\n",
            " [0.265 0.46  0.12  0.11  0.045]\n",
            " [0.27  0.435 0.13  0.13  0.035]\n",
            " [0.275 0.445 0.13  0.12  0.03 ]\n",
            " [0.28  0.435 0.14  0.1   0.045]\n",
            " [0.275 0.415 0.14  0.115 0.055]\n",
            " [0.285 0.42  0.16  0.075 0.06 ]\n",
            " [0.29  0.345 0.19  0.125 0.05 ]\n",
            " [0.315 0.3   0.24  0.095 0.05 ]\n",
            " [0.315 0.315 0.235 0.09  0.045]\n",
            " [0.31  0.3   0.245 0.08  0.065]\n",
            " [0.345 0.28  0.24  0.08  0.055]\n",
            " [0.375 0.265 0.205 0.075 0.08 ]\n",
            " [0.375 0.275 0.165 0.085 0.1  ]\n",
            " [0.375 0.275 0.16  0.085 0.105]\n",
            " [0.35  0.26  0.14  0.135 0.115]\n",
            " [0.335 0.31  0.125 0.13  0.1  ]\n",
            " [0.335 0.315 0.13  0.115 0.105]\n",
            " [0.335 0.33  0.115 0.14  0.08 ]\n",
            " [0.305 0.345 0.145 0.1   0.105]\n",
            " [0.335 0.36  0.14  0.075 0.09 ]\n",
            " [0.325 0.37  0.13  0.085 0.09 ]]\n",
            "\n",
            "\n"
          ]
        }
      ]
    },
    {
      "cell_type": "code",
      "source": [
        "def compare_models(models_list, traces_list, groups_arr):\n",
        "\n",
        "    for i in range(len(traces_list)):\n",
        "        trace = traces_list[i]\n",
        "        if \"log_likelihood\" not in trace:\n",
        "            pm.compute_log_likelihood(trace, model=models_list[i])\n",
        "\n",
        "    # WAIC\n",
        "    comp_waic = az.compare(dict(zip([str(group) for group in groups_arr], traces_list)),\n",
        "                           method='BB-pseudo-BMA', ic='waic', scale='deviance')\n",
        "\n",
        "    az.plot_compare(comp_waic)\n",
        "    print(f\"Comparing with WAIC:\\n{comp_waic}\")\n",
        "    plt.show()\n",
        "\n",
        "    #  LOO\n",
        "    comp_loo = az.compare(dict(zip([str(group) for group in groups_arr], traces_list)),\n",
        "                          method='BB-pseudo-BMA', ic='loo', scale='deviance')\n",
        "\n",
        "    az.plot_compare(comp_loo)\n",
        "    print(f\"Comparing with LOO:\\n{comp_loo}\")\n",
        "    plt.show()\n",
        "\n"
      ],
      "metadata": {
        "id": "pjrA-QU5eMUn"
      },
      "execution_count": 34,
      "outputs": []
    },
    {
      "cell_type": "code",
      "source": [
        "K_values = [3, 4, 5]\n",
        "compare_models(models, traces, K_values)"
      ],
      "metadata": {
        "colab": {
          "base_uri": "https://localhost:8080/",
          "height": 1000
        },
        "id": "kPFMUSXYeQfX",
        "outputId": "256924f6-9182-4cff-c473-19e8c3831d66"
      },
      "execution_count": 36,
      "outputs": [
        {
          "output_type": "stream",
          "name": "stderr",
          "text": [
            "/usr/local/lib/python3.11/dist-packages/arviz/stats/stats.py:1653: UserWarning: For one or more samples the posterior variance of the log predictive densities exceeds 0.4. This could be indication of WAIC starting to fail. \n",
            "See http://arxiv.org/abs/1507.04544 for details\n",
            "  warnings.warn(\n",
            "/usr/local/lib/python3.11/dist-packages/arviz/stats/stats.py:1653: UserWarning: For one or more samples the posterior variance of the log predictive densities exceeds 0.4. This could be indication of WAIC starting to fail. \n",
            "See http://arxiv.org/abs/1507.04544 for details\n",
            "  warnings.warn(\n",
            "/usr/local/lib/python3.11/dist-packages/arviz/stats/stats.py:1653: UserWarning: For one or more samples the posterior variance of the log predictive densities exceeds 0.4. This could be indication of WAIC starting to fail. \n",
            "See http://arxiv.org/abs/1507.04544 for details\n",
            "  warnings.warn(\n"
          ]
        },
        {
          "output_type": "stream",
          "name": "stdout",
          "text": [
            "Comparing with WAIC:\n",
            "   rank    elpd_waic     p_waic  elpd_diff    weight         se      dse  \\\n",
            "4     0  1423.509632  50.356884   0.000000  0.511802  17.581981  0.00000   \n",
            "5     1  1426.580526  60.794960   3.070894  0.282983  17.199104  6.58579   \n",
            "3     2  1427.617618  46.468298   4.107986  0.205215  17.460364  6.36528   \n",
            "\n",
            "   warning     scale  \n",
            "4     True  deviance  \n",
            "5     True  deviance  \n",
            "3     True  deviance  \n"
          ]
        },
        {
          "output_type": "display_data",
          "data": {
            "text/plain": [
              "<Figure size 600x300 with 1 Axes>"
            ],
            "image/png": "[encoded data removed]"
          },
          "metadata": {}
        },
        {
          "output_type": "stream",
          "name": "stderr",
          "text": [
            "/usr/local/lib/python3.11/dist-packages/arviz/stats/stats.py:795: UserWarning: Estimated shape parameter of Pareto distribution is greater than 0.57 for one or more samples. You should consider using a more robust model, this is because importance sampling is less likely to work well if the marginal posterior and LOO posterior are very different. This is more likely to happen with a non-robust model and highly influential observations.\n",
            "  warnings.warn(\n",
            "/usr/local/lib/python3.11/dist-packages/arviz/stats/stats.py:795: UserWarning: Estimated shape parameter of Pareto distribution is greater than 0.57 for one or more samples. You should consider using a more robust model, this is because importance sampling is less likely to work well if the marginal posterior and LOO posterior are very different. This is more likely to happen with a non-robust model and highly influential observations.\n",
            "  warnings.warn(\n",
            "/usr/local/lib/python3.11/dist-packages/arviz/stats/stats.py:795: UserWarning: Estimated shape parameter of Pareto distribution is greater than 0.57 for one or more samples. You should consider using a more robust model, this is because importance sampling is less likely to work well if the marginal posterior and LOO posterior are very different. This is more likely to happen with a non-robust model and highly influential observations.\n",
            "  warnings.warn(\n"
          ]
        },
        {
          "output_type": "stream",
          "name": "stdout",
          "text": [
            "Comparing with LOO:\n",
            "   rank     elpd_loo      p_loo  elpd_diff    weight         se        dse  \\\n",
            "3     0  1427.104317  46.211647   0.000000  0.668233  18.052679   0.000000   \n",
            "4     1  1431.573056  54.388596   4.468739  0.296344  17.955248   8.077567   \n",
            "5     2  1441.889830  68.449612  14.785513  0.035423  17.567651  10.096724   \n",
            "\n",
            "   warning     scale  \n",
            "3     True  deviance  \n",
            "4     True  deviance  \n",
            "5     True  deviance  \n"
          ]
        },
        {
          "output_type": "display_data",
          "data": {
            "text/plain": [
              "<Figure size 600x300 with 1 Axes>"
            ],
            "image/png": "[encoded data removed]"
          },
          "metadata": {}
        }
      ]
    },
    {
      "cell_type": "markdown",
      "source": [
        "cel mai bine se potrivesc 3 subpopulații"
      ],
      "metadata": {
        "id": "gwYaueS_e9XT"
      }
    },
    {
      "cell_type": "code",
      "source": [
        "def get_mean_weight_for_each_subpopulation(cluster_probs, weights, K):\n",
        "\n",
        "    mean_weights = np.zeros(K)\n",
        "\n",
        "    for k in range(K):\n",
        "        # weighted mean\n",
        "        weighted_sum = np.sum(cluster_probs[:, k] * weights)\n",
        "        total_weight = np.sum(cluster_probs[:, k])\n",
        "        mean_weights[k] = weighted_sum / total_weight\n",
        "\n",
        "    return mean_weights\n"
      ],
      "metadata": {
        "id": "JKCLkKQtfSYt"
      },
      "execution_count": 37,
      "outputs": []
    },
    {
      "cell_type": "code",
      "source": [
        "K_fixed = 3\n",
        "cluster_probs = cluster_probs_dict[K_fixed]\n",
        "mean_weights = get_mean_weight_for_each_subpopulation(cluster_probs, weights, K_fixed)\n",
        "\n",
        "for i, mean_weight in enumerate(mean_weights):\n",
        "    print(f\"Estimated mean weight for subpopulation {i+1}: {mean_weight:.2f}\")"
      ],
      "metadata": {
        "colab": {
          "base_uri": "https://localhost:8080/"
        },
        "id": "4XZcxq-VfY-_",
        "outputId": "7e134150-71ab-4b2c-af4d-5a6eaf06b08b"
      },
      "execution_count": 38,
      "outputs": [
        {
          "output_type": "stream",
          "name": "stdout",
          "text": [
            "Estimated mean weight for subpopulation 1: 62.35\n",
            "Estimated mean weight for subpopulation 2: 62.34\n",
            "Estimated mean weight for subpopulation 3: 62.54\n"
          ]
        }
      ]
    },
    {
      "cell_type": "markdown",
      "source": [
        "au toate aceeași greutate, deoarece la crearea modelului s-a folosit sigma lui sigma 'determinist':\n",
        "  sigma = pm.HalfNormal(\"sigma\", sigma=np.std(weights), shape=K)"
      ],
      "metadata": {
        "id": "ECTnfhRufmnJ"
      }
    }
  ]
}